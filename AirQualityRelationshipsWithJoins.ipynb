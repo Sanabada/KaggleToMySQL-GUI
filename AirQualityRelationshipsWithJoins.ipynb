{
 "cells": [
  {
   "cell_type": "code",
   "execution_count": 22,
   "metadata": {},
   "outputs": [
    {
     "name": "stdout",
     "output_type": "stream",
     "text": [
      "Requirement already satisfied: pandas in /opt/homebrew/Caskroom/miniforge/base/envs/terrabikes/lib/python3.9/site-packages (2.2.2)\n",
      "Requirement already satisfied: mysql-connector-python in /opt/homebrew/Caskroom/miniforge/base/envs/terrabikes/lib/python3.9/site-packages (9.2.0)\n",
      "Requirement already satisfied: numpy>=1.22.4 in /opt/homebrew/Caskroom/miniforge/base/envs/terrabikes/lib/python3.9/site-packages (from pandas) (2.0.2)\n",
      "Requirement already satisfied: python-dateutil>=2.8.2 in /opt/homebrew/Caskroom/miniforge/base/envs/terrabikes/lib/python3.9/site-packages (from pandas) (2.9.0.post0)\n",
      "Requirement already satisfied: pytz>=2020.1 in /opt/homebrew/Caskroom/miniforge/base/envs/terrabikes/lib/python3.9/site-packages (from pandas) (2025.1)\n",
      "Requirement already satisfied: tzdata>=2022.7 in /opt/homebrew/Caskroom/miniforge/base/envs/terrabikes/lib/python3.9/site-packages (from pandas) (2025.1)\n",
      "Requirement already satisfied: six>=1.5 in /opt/homebrew/Caskroom/miniforge/base/envs/terrabikes/lib/python3.9/site-packages (from python-dateutil>=2.8.2->pandas) (1.17.0)\n",
      "Note: you may need to restart the kernel to use updated packages.\n"
     ]
    }
   ],
   "source": [
    "pip install pandas mysql-connector-python"
   ]
  },
  {
   "cell_type": "code",
   "execution_count": 23,
   "metadata": {},
   "outputs": [],
   "source": [
    "import pandas as pd\n",
    "import re\n",
    "from data201 import db_connection\n",
    "from mysql.connector import errorcode"
   ]
  },
  {
   "cell_type": "code",
   "execution_count": 24,
   "metadata": {},
   "outputs": [],
   "source": [
    "conn = db_connection(config_file = 'joinforce.ini')\n",
    "cursor = conn.cursor()"
   ]
  },
  {
   "cell_type": "code",
   "execution_count": 25,
   "metadata": {},
   "outputs": [],
   "source": [
    "cursor.execute('DROP TABLE IF EXISTS aq_pollutant;')\n",
    "cursor.execute('DROP TABLE IF EXISTS air_quality;')\n",
    "cursor.execute('DROP TABLE IF EXISTS pollutant;')\n",
    "cursor.execute('DROP TABLE IF EXISTS location;')\n",
    "#cursor.execute('DROP TABLE IF EXISTS district;')"
   ]
  },
  {
   "cell_type": "code",
   "execution_count": 26,
   "metadata": {},
   "outputs": [],
   "source": [
    "# Create District table (One-to-One relationship with Location)\n",
    "# Primary key: district_id\n",
    "\n",
    "sql = ( \"\"\"\n",
    "    CREATE TABLE IF NOT EXISTS district (\n",
    "        district_id INT NOT NULL,\n",
    "        district_name VARCHAR(100) NOT NULL,\n",
    "        PRIMARY KEY (district_id)\n",
    "    )\"\"\")\n",
    "\n",
    "cursor.execute(sql);"
   ]
  },
  {
   "cell_type": "code",
   "execution_count": 27,
   "metadata": {},
   "outputs": [],
   "source": [
    "# Create Location table (One-to-One relationship with District)\n",
    "#doesn't work if district_id is used as primary key for multiple tables:https://stackoverflow.com/questions/55631622/can-i-use-one-same-primary-key-in-two-different-tables\n",
    "# Primary key: location_id\n",
    "# Foreign key: district_id\n",
    "    \n",
    "sql = ( \"\"\"\n",
    "    CREATE TABLE location (\n",
    "        location_id INT NOT NULL,\n",
    "        longitude FLOAT,\n",
    "        latitude FLOAT,\n",
    "        district_id INT NOT NULL,\n",
    "        PRIMARY KEY (location_id),\n",
    "        CONSTRAINT fk_location_district FOREIGN KEY (district_id) REFERENCES district(district_id)\n",
    "    )\"\"\")\n",
    "\n",
    "cursor.execute(sql);"
   ]
  },
  {
   "cell_type": "code",
   "execution_count": 28,
   "metadata": {},
   "outputs": [],
   "source": [
    "# Create Pollutant table(one-to-many relationship with District))\n",
    "# Primary key: pollutant_id\n",
    "\n",
    "sql = (\"\"\"\n",
    "    CREATE TABLE IF NOT EXISTS pollutant (\n",
    "        pollutant_id INT NOT NULL,\n",
    "        measure VARCHAR(50) NOT NULL,\n",
    "        PRIMARY KEY (pollutant_id)\n",
    "    )\"\"\")\n",
    "\n",
    "cursor.execute(sql);"
   ]
  },
  {
   "cell_type": "code",
   "execution_count": 29,
   "metadata": {},
   "outputs": [],
   "source": [
    "# Create AirQuality table (Many-to-Many relationship between AirQuality and Pollutant)\n",
    "# Primary key: aq_id\n",
    "# Foreign key: district_id\n",
    "\n",
    "sql = (\"\"\"\n",
    "    CREATE TABLE IF NOT EXISTS air_quality (\n",
    "        aq_id VARCHAR(70) NOT NULL,\n",
    "        date DATE NOT NULL,\n",
    "        measure VARCHAR(50) NOT NULL,\n",
    "        data_value FLOAT NOT NULL,\n",
    "        district_id INT NOT NULL,\n",
    "        PRIMARY KEY (aq_id),\n",
    "        CONSTRAINT fk_airquality_district FOREIGN KEY (district_id) REFERENCES district(district_id)\n",
    "    )\"\"\")\n",
    "\n",
    "cursor.execute(sql);"
   ]
  },
  {
   "cell_type": "code",
   "execution_count": 30,
   "metadata": {},
   "outputs": [],
   "source": [
    "# Create AQPollutant table \n",
    "# Primary keys: aq_id, pollutant_id\n",
    "# Foreign key: aq_id → References air_quality(aq_id), pollutant_id → References pollutant(pollutant_id)\n",
    "\n",
    "sql = (\"\"\"\n",
    "    CREATE TABLE IF NOT EXISTS aq_pollutant (\n",
    "        pollutant_id INT NOT NULL,\n",
    "        aq_id VARCHAR(70) NOT NULL,\n",
    "        PRIMARY KEY (pollutant_id, aq_id),\n",
    "        CONSTRAINT fk_aqpollutant_pollutant FOREIGN KEY (pollutant_id) REFERENCES pollutant(pollutant_id),\n",
    "        CONSTRAINT fk_aqpollutant_airquality FOREIGN KEY (aq_id) REFERENCES air_quality(aq_id)\n",
    "    )\"\"\")\n",
    "\n",
    "cursor.execute(sql)"
   ]
  },
  {
   "cell_type": "code",
   "execution_count": 31,
   "metadata": {},
   "outputs": [
    {
     "name": "stdout",
     "output_type": "stream",
     "text": [
      "MySQL connection is closed.\n"
     ]
    }
   ],
   "source": [
    "\n",
    "sql = (\"\"\"\n",
    "      CREATE TABLE IF NOT EXISTS air_quality_category (\n",
    "      aq_id VARCHAR(70) NOT NULL,\n",
    "      date DATE NOT NULL,\n",
    "      measure VARCHAR(50) NOT NULL,\n",
    "      data_value FLOAT NOT NULL,\n",
    "      district_id INT NOT NULL,\n",
    "      air_quality_category VARCHAR(50), -- The new column for transformed data\n",
    "      PRIMARY KEY (aq_id),\n",
    "      CONSTRAINT fk_airquality_category_district FOREIGN KEY (district_id) REFERENCES district(district_id)\n",
    "    )\"\"\")\n",
    "\n",
    "cursor.execute(sql)\n",
    "cursor.close()\n",
    "conn.close()\n",
    "print(\"MySQL connection is closed.\")"
   ]
  },
  {
   "cell_type": "code",
   "execution_count": 32,
   "metadata": {},
   "outputs": [
    {
     "name": "stdout",
     "output_type": "stream",
     "text": [
      "Data inserted successfully!\n"
     ]
    }
   ],
   "source": [
    "#Insert data into the district table\n",
    "try:\n",
    "    conn = db_connection(config_file='joinforce.ini')\n",
    "    cursor = conn.cursor()\n",
    "\n",
    "    sql = \"\"\"\n",
    "        INSERT INTO joinforce_db.district (district_id, district_name) VALUES\n",
    "            (1, 'San Jose'),\n",
    "            (2, 'Los Angeles'),\n",
    "            (3, 'New York'),\n",
    "            (4, 'Chicago'),\n",
    "            (5, 'Houston')\n",
    "        ON DUPLICATE KEY UPDATE district_name = VALUES(district_name);\n",
    "    \"\"\"\n",
    "    \n",
    "    cursor.execute(sql)\n",
    "    conn.commit()\n",
    "    print(\"Data inserted successfully!\")\n",
    "\n",
    "except Exception as e:\n",
    "    print(f\"Error inserting data: {e}\")\n",
    "\n",
    "finally:\n",
    "    cursor.close()\n",
    "    conn.close()\n"
   ]
  },
  {
   "cell_type": "code",
   "execution_count": 33,
   "metadata": {},
   "outputs": [
    {
     "name": "stdout",
     "output_type": "stream",
     "text": [
      "Data inserted successfully into location table!\n"
     ]
    }
   ],
   "source": [
    "#Insert data into the location table\n",
    "try:\n",
    "    conn = db_connection(config_file='joinforce.ini')\n",
    "    cursor = conn.cursor()\n",
    "\n",
    "    sql = \"\"\"\n",
    "        INSERT INTO joinforce_db.location (location_id, longitude, latitude, district_id) VALUES\n",
    "            (1, -121.8863, 37.3382, 1),\n",
    "            (2, -118.2437, 34.0522, 2),\n",
    "            (3, -74.0060, 40.7128, 3),\n",
    "            (4, -87.6298, 41.8781, 4),\n",
    "            (5, -95.3698, 29.7604, 5)\n",
    "        ON DUPLICATE KEY UPDATE longitude = VALUES(longitude), latitude = VALUES(latitude);\n",
    "    \"\"\"\n",
    "\n",
    "    cursor.execute(sql)\n",
    "    conn.commit()\n",
    "    print(\"Data inserted successfully into location table!\")\n",
    "\n",
    "except Exception as e:\n",
    "    print(f\"Error inserting data into location: {e}\")\n",
    "\n",
    "finally:\n",
    "    cursor.close()\n",
    "    conn.close()\n"
   ]
  },
  {
   "cell_type": "code",
   "execution_count": 34,
   "metadata": {},
   "outputs": [
    {
     "name": "stdout",
     "output_type": "stream",
     "text": [
      "Data inserted successfully into pollutant table!\n"
     ]
    }
   ],
   "source": [
    "#Insert data into the pollutant table\n",
    "try:\n",
    "    conn = db_connection(config_file='joinforce.ini')\n",
    "    cursor = conn.cursor()\n",
    "\n",
    "    sql = \"\"\"\n",
    "        INSERT INTO joinforce_db.pollutant (pollutant_id, measure) VALUES\n",
    "            (1, 'PM2.5'),\n",
    "            (2, 'PM10'),\n",
    "            (3, 'CO'),\n",
    "            (4, 'NO2'),\n",
    "            (5, 'SO2')\n",
    "        ON DUPLICATE KEY UPDATE measure = VALUES(measure);\n",
    "    \"\"\"\n",
    "\n",
    "    cursor.execute(sql)\n",
    "    conn.commit()\n",
    "    print(\"Data inserted successfully into pollutant table!\")\n",
    "\n",
    "except Exception as e:\n",
    "    print(f\"Error inserting data into pollutant: {e}\")\n",
    "\n",
    "finally:\n",
    "    cursor.close()\n",
    "    conn.close()\n"
   ]
  },
  {
   "cell_type": "code",
   "execution_count": 35,
   "metadata": {},
   "outputs": [
    {
     "name": "stdout",
     "output_type": "stream",
     "text": [
      "Data inserted successfully into air_quality table!\n"
     ]
    }
   ],
   "source": [
    "#Insert data into the air_quality table\n",
    "try:\n",
    "    conn = db_connection(config_file='joinforce.ini')\n",
    "    cursor = conn.cursor()\n",
    "\n",
    "    sql = \"\"\"\n",
    "        INSERT INTO joinforce_db.air_quality (aq_id, date, measure, data_value, district_id) VALUES\n",
    "            ('AQ1', '2025-02-14', 'PM2.5', 35.6, 1),\n",
    "            ('AQ2', '2025-02-14', 'PM10', 50.2,2),\n",
    "            ('AQ3', '2025-02-14', 'CO', 0.8, 3),\n",
    "            ('AQ4', '2025-02-14', 'NO2', 25.5, 4),\n",
    "            ('AQ5', '2025-02-14', 'SO2', 15.0, 5);\n",
    "        \n",
    "    \"\"\"\n",
    "\n",
    "    cursor.execute(sql)\n",
    "    conn.commit()\n",
    "    print(\"Data inserted successfully into air_quality table!\")\n",
    "\n",
    "except Exception as e:\n",
    "    print(f\"Error inserting data into air_quality: {e}\")\n",
    "\n",
    "finally:\n",
    "    cursor.close()\n",
    "    conn.close()\n"
   ]
  },
  {
   "cell_type": "code",
   "execution_count": 36,
   "metadata": {},
   "outputs": [
    {
     "name": "stdout",
     "output_type": "stream",
     "text": [
      "Data inserted successfully into aq_pollutant table!\n"
     ]
    }
   ],
   "source": [
    "#Insert data into the aq_pollutant table\n",
    "try:\n",
    "    conn = db_connection(config_file='joinforce.ini')\n",
    "    cursor = conn.cursor()\n",
    "\n",
    "    sql = \"\"\"\n",
    "        INSERT INTO joinforce_db.aq_pollutant (pollutant_id, aq_id) VALUES\n",
    "            (1, 'AQ1'),\n",
    "            (2, 'AQ2'),\n",
    "            (3, 'AQ3'),\n",
    "            (4, 'AQ4'),\n",
    "            (5, 'AQ5')\n",
    "        ON DUPLICATE KEY UPDATE pollutant_id = VALUES(pollutant_id);\n",
    "    \"\"\"\n",
    "\n",
    "    cursor.execute(sql)\n",
    "    conn.commit()\n",
    "    print(\"Data inserted successfully into aq_pollutant table!\")\n",
    "\n",
    "except Exception as e:\n",
    "    print(f\"Error inserting data into aq_pollutant: {e}\")\n",
    "\n",
    "finally:\n",
    "    cursor.close()\n",
    "    conn.close()\n"
   ]
  },
  {
   "cell_type": "code",
   "execution_count": 37,
   "metadata": {},
   "outputs": [
    {
     "name": "stdout",
     "output_type": "stream",
     "text": [
      "Error inserting data into air_quality: 1062 (23000): Duplicate entry 'AQ1' for key 'air_quality_category.PRIMARY'\n"
     ]
    }
   ],
   "source": [
    "#INSERT INTO SELECT with CASE\n",
    "try:\n",
    "    conn = db_connection(config_file='joinforce.ini')\n",
    "    cursor = conn.cursor()\n",
    "\n",
    "    sql = \"\"\"\n",
    "        INSERT INTO air_quality_category (aq_id, date, measure, data_value, district_id, air_quality_category)\n",
    "SELECT \n",
    "    aq.aq_id,\n",
    "    aq.date,\n",
    "    aq.measure,\n",
    "    aq.data_value,\n",
    "    aq.district_id,\n",
    "    CASE\n",
    "        WHEN aq.data_value < 20 THEN 'Excellent'\n",
    "        WHEN aq.data_value >= 20 AND aq.data_value <= 50 THEN 'Fair'\n",
    "        ELSE 'Unhealthy'\n",
    "    END AS air_quality_category\n",
    "FROM air_quality aq;\n",
    "    \"\"\"\n",
    "\n",
    "    cursor.execute(sql)\n",
    "    conn.commit()\n",
    "    print(\"Data inserted successfully into air_quality table!\")\n",
    "\n",
    "except Exception as e:\n",
    "    print(f\"Error inserting data into air_quality: {e}\")\n",
    "\n",
    "finally:\n",
    "    cursor.close()\n",
    "    conn.close()\n"
   ]
  },
  {
   "cell_type": "code",
   "execution_count": 38,
   "metadata": {},
   "outputs": [
    {
     "name": "stdout",
     "output_type": "stream",
     "text": [
      "\n",
      "DISTRICT TABLE:\n",
      "   district_id district_name\n",
      "0            1      San Jose\n",
      "1            2   Los Angeles\n",
      "2            3      New York\n",
      "3            4       Chicago\n",
      "4            5       Houston\n",
      "\n",
      "LOCATION TABLE:\n",
      "   location_id  longitude  latitude  district_id\n",
      "0            1  -121.8860   37.3382            1\n",
      "1            2  -118.2440   34.0522            2\n",
      "2            3   -74.0060   40.7128            3\n",
      "3            4   -87.6298   41.8781            4\n",
      "4            5   -95.3698   29.7604            5\n",
      "\n",
      "POLLUTANT TABLE:\n",
      "   pollutant_id measure\n",
      "0             1   PM2.5\n",
      "1             2    PM10\n",
      "2             3      CO\n",
      "3             4     NO2\n",
      "4             5     SO2\n",
      "\n",
      "AIR_QUALITY TABLE:\n",
      "  aq_id        date measure  data_value  district_id\n",
      "0   AQ1  2025-02-14   PM2.5        35.6            1\n",
      "1   AQ2  2025-02-14    PM10        50.2            2\n",
      "2   AQ3  2025-02-14      CO         0.8            3\n",
      "3   AQ4  2025-02-14     NO2        25.5            4\n",
      "4   AQ5  2025-02-14     SO2        15.0            5\n",
      "\n",
      "AQ_POLLUTANT TABLE:\n",
      "   pollutant_id aq_id\n",
      "0             1   AQ1\n",
      "1             2   AQ2\n",
      "2             3   AQ3\n",
      "3             4   AQ4\n",
      "4             5   AQ5\n",
      "\n",
      "AIR_QUALITY_CATEGORY TABLE:\n",
      "  aq_id        date measure  data_value  district_id air_quality_category\n",
      "0   AQ1  2025-02-14   PM2.5        35.6            1                 Fair\n",
      "1   AQ2  2025-02-14    PM10        50.2            2            Unhealthy\n",
      "2   AQ3  2025-02-14      CO         0.8            3            Excellent\n",
      "3   AQ4  2025-02-14     NO2        25.5            4                 Fair\n",
      "4   AQ5  2025-02-14     SO2        15.0            5            Excellent\n",
      "MySQL connection is closed.\n"
     ]
    }
   ],
   "source": [
    "# Reconnect to DB\n",
    "conn = db_connection(config_file='joinforce.ini')\n",
    "\n",
    "# Query to fetch the rows of every table\n",
    "try:\n",
    "    if conn.is_connected():\n",
    "        cursor = conn.cursor()\n",
    "\n",
    "        tables = [\"district\", \"location\", \"pollutant\", \"air_quality\", \"aq_pollutant\",\"air_quality_category\"]\n",
    "        dataframes = {}\n",
    "\n",
    "        for table in tables:\n",
    "            query = f\"SELECT * FROM {table};\"\n",
    "            cursor.execute(query)\n",
    "            rows = cursor.fetchall()\n",
    "\n",
    "            # Get column names from cursor description\n",
    "            column_names = [desc[0] for desc in cursor.description]\n",
    "\n",
    "            # Create a pandas DataFrame for each table\n",
    "            df = pd.DataFrame(rows, columns=column_names)\n",
    "            dataframes[table] = df\n",
    "\n",
    "            # Print DataFrame\n",
    "            print(f\"\\n{table.upper()} TABLE:\")\n",
    "            print(df)\n",
    "\n",
    "except Exception as e:\n",
    "    print(f\"Error while executing queries: {e}\")\n",
    "\n",
    "finally:\n",
    "    cursor.close()\n",
    "    conn.close()\n",
    "    print(\"MySQL connection is closed.\")"
   ]
  },
  {
   "cell_type": "markdown",
   "metadata": {},
   "source": [
    "Doing Join Operations on above Tables as below:"
   ]
  },
  {
   "cell_type": "code",
   "execution_count": 39,
   "metadata": {},
   "outputs": [
    {
     "name": "stdout",
     "output_type": "stream",
     "text": [
      "\n",
      " 1. Left Outer Join Results:\n",
      "  district_name  location_id  longitude  latitude\n",
      "0      San Jose            1  -121.8860   37.3382\n",
      "1   Los Angeles            2  -118.2440   34.0522\n",
      "2      New York            3   -74.0060   40.7128\n",
      "3       Chicago            4   -87.6298   41.8781\n",
      "4       Houston            5   -95.3698   29.7604\n",
      "\n",
      " 2. Right Outer Join Results:\n",
      "  district_name measure  data_value\n",
      "0      San Jose   PM2.5        35.6\n",
      "1   Los Angeles    PM10        50.2\n",
      "2      New York      CO         0.8\n",
      "3       Chicago     NO2        25.5\n",
      "4       Houston     SO2        15.0\n",
      "\n",
      " 3. Full Outer Join Results:\n",
      "  aq_id measure\n",
      "0   AQ1   PM2.5\n",
      "1   AQ2    PM10\n",
      "2   AQ3      CO\n",
      "3   AQ4     NO2\n",
      "4   AQ5     SO2\n",
      "MySQL connection is closed.\n"
     ]
    }
   ],
   "source": [
    "# Doing Left Outer Join, Right Outer Join, and Full Outer Join\n",
    "queries = {\n",
    "     #Display the region ID, region name, and number of stores in the region for all regions\n",
    "    \"1. Left Outer Join\": \"\"\"\n",
    "        SELECT d.district_name,l.location_id, l.longitude, l.latitude\n",
    "        FROM joinforce_db.district d\n",
    "        LEFT OUTER JOIN joinforce_db.location l\n",
    "        ON d.district_id= l.district_id;\n",
    "    \"\"\",\n",
    "    \"2. Right Outer Join\": \"\"\"\n",
    "        SELECT d.district_name, a.measure, a.data_value\n",
    "        FROM joinforce_db.district d\n",
    "        Right OUTER JOIN joinforce_db.air_quality a\n",
    "        ON d.district_id= a.district_id;\n",
    "    \"\"\",\n",
    "     \"3. Full Outer Join\": \"\"\"\n",
    "        SELECT a.aq_id, p.measure\n",
    "        FROM joinforce_db.pollutant p\n",
    "        Right OUTER JOIN joinforce_db.aq_pollutant a\n",
    "        ON p.pollutant_id= a.pollutant_id;\n",
    "    \"\"\"\n",
    "}\n",
    "# Reconnect to DB\n",
    "conn = db_connection(config_file='joinforce.ini')\n",
    "try:\n",
    "    if conn.is_connected():\n",
    "        cursor = conn.cursor()\n",
    "\n",
    "        for query_name, sql_query in queries.items():\n",
    "            cursor.execute(sql_query)\n",
    "            rows = cursor.fetchall()\n",
    "\n",
    "            # Get column names from cursor description\n",
    "            column_names = [desc[0] for desc in cursor.description]\n",
    "\n",
    "            # Create DataFrame\n",
    "            df_result = pd.DataFrame(rows, columns=column_names)\n",
    "\n",
    "            # Display DataFrame\n",
    "            print(f\"\\n {query_name} Results:\")\n",
    "            print(df_result.head(40))  # Show first 40 rows\n",
    "\n",
    "except Exception as e:\n",
    "    print(f\"Error while executing queries: {e}\")\n",
    "\n",
    "finally:\n",
    "    cursor.close()\n",
    "    conn.close()\n",
    "    print(\"MySQL connection is closed.\")"
   ]
  }
 ],
 "metadata": {
  "kernelspec": {
   "display_name": "terrabikes",
   "language": "python",
   "name": "python3"
  },
  "language_info": {
   "codemirror_mode": {
    "name": "ipython",
    "version": 3
   },
   "file_extension": ".py",
   "mimetype": "text/x-python",
   "name": "python",
   "nbconvert_exporter": "python",
   "pygments_lexer": "ipython3",
   "version": "3.9.12"
  }
 },
 "nbformat": 4,
 "nbformat_minor": 2
}
